{
 "cells": [
  {
   "cell_type": "code",
   "execution_count": 1,
   "id": "ea16cd16-726c-4ced-b991-cbde09d12390",
   "metadata": {},
   "outputs": [],
   "source": [
    "import soundfile as sf\n",
    "import librosa\n",
    "import numpy as np\n",
    "import os\n",
    "import matplotlib.pyplot as plt\n",
    "from pathlib import Path\n",
    "from sklearn.model_selection import train_test_split\n",
    "from sklearn.linear_model import LogisticRegression\n",
    "from sklearn.neural_network import MLPClassifier\n",
    "from sklearn.metrics import accuracy_score, ConfusionMatrixDisplay"
   ]
  },
  {
   "cell_type": "code",
   "execution_count": 2,
   "id": "086076c8-4a8f-42cd-b777-2b9e81acc736",
   "metadata": {},
   "outputs": [],
   "source": [
    "#function to grab and record stats\n",
    "def getStats(fileName):\n",
    "    #grab file and take raw data/sr out\n",
    "    rawFile = sf.SoundFile(fileName)\n",
    "    rawData = rawFile.read()\n",
    "    samp = rawFile.samplerate\n",
    "    #use librosa get waveform stats\n",
    "    stft = np.abs(librosa.stft(rawData))\n",
    "    mfccs = np.mean(librosa.feature.mfcc(y=rawData,sr=samp, n_mfcc=40).T, axis=0)\n",
    "    chroma = np.mean(librosa.feature.chroma_stft(S=stft, sr=samp).T,axis=0)\n",
    "    mel = np.mean(librosa.feature.melspectrogram(y=rawData, sr=samp).T,axis=0)\n",
    "    #close file and return array of stats\n",
    "    rawFile.close()\n",
    "    return np.hstack((mfccs,chroma,mel))"
   ]
  },
  {
   "cell_type": "code",
   "execution_count": 3,
   "id": "9007a499-f7b7-4246-a54f-3eb2de6d7ca8",
   "metadata": {},
   "outputs": [],
   "source": [
    "features = []\n",
    "emotions = []\n",
    "for actor in os.listdir('Actors'):\n",
    "    for fileName in os.listdir('Actors/' + actor):\n",
    "        fullPath = str(Path.cwd()) + '/Actors/' + actor + '/' + fileName\n",
    "        emotion = fileName[6:8]\n",
    "        if emotion in ['02','03','06','07']:\n",
    "            features.append(getStats(fullPath))\n",
    "            emotions.append(emotion)"
   ]
  },
  {
   "cell_type": "code",
   "execution_count": 20,
   "id": "2a41056e-acee-412c-9670-8f5e0ca9cffa",
   "metadata": {},
   "outputs": [],
   "source": [
    "#TODO\n",
    "#\n",
    "#Work out best parameters for MLP and Logistic model (maybe map it out)\n",
    "#\n",
    "#Cross-Validation\n",
    "#\n",
    "#More graphs\n",
    "#\n",
    "#Learn what librosa stats are doing so we can better work through data"
   ]
  },
  {
   "cell_type": "code",
   "execution_count": 18,
   "id": "42513347-3b8e-4ad8-be41-560548ac4779",
   "metadata": {},
   "outputs": [],
   "source": [
    "def trainMLPModel(train_features,train_emotions):\n",
    "    model = MLPClassifier(alpha=0.01, batch_size=256, epsilon=1e-08, hidden_layer_sizes=(300,), learning_rate='adaptive', max_iter=500)\n",
    "    model.fit(train_features,train_emotions)\n",
    "    return model"
   ]
  },
  {
   "cell_type": "code",
   "execution_count": 38,
   "id": "1fe9f856-39d3-45ba-a8c7-4f0a95845621",
   "metadata": {},
   "outputs": [],
   "source": [
    "def trainLogisticModel(train_features,train_emotions):\n",
    "    model = LogisticRegression(tol= 1e-2,max_iter=50000)\n",
    "    model.fit(train_features, train_emotions)\n",
    "    return model"
   ]
  },
  {
   "cell_type": "code",
   "execution_count": 39,
   "id": "24f16d52-7978-4e46-b0b4-dce2dc561f54",
   "metadata": {},
   "outputs": [],
   "source": [
    "def testModel(model, test_features, test_emotions):\n",
    "    predictions = model.predict(test_features)\n",
    "    accuracy = accuracy_score(y_true= test_emotions, y_pred= predictions)\n",
    "    display = ConfusionMatrixDisplay.from_predictions(test_emotions,predictions,display_labels=['02','03','06','07'])\n",
    "    plt.show()\n",
    "    return accuracy"
   ]
  },
  {
   "cell_type": "code",
   "execution_count": 40,
   "id": "6a206052-a31f-43fe-9481-e5f95e532cdc",
   "metadata": {},
   "outputs": [
    {
     "data": {
      "image/png": "[encoded data removed]",
      "text/plain": [
       "<Figure size 640x480 with 2 Axes>"
      ]
     },
     "metadata": {},
     "output_type": "display_data"
    },
    {
     "name": "stdout",
     "output_type": "stream",
     "text": [
      "0.6038961038961039\n"
     ]
    }
   ],
   "source": [
    "train_features,test_features,train_emotions,test_emotions = train_test_split(features, emotions, test_size=0.2, random_state=1)\n",
    "print(testModel(trainLogisticModel(train_features,train_emotions),test_features, test_emotions))"
   ]
  },
  {
   "cell_type": "code",
   "execution_count": null,
   "id": "51899a76-5801-4e73-8e17-a75a78e6d3fa",
   "metadata": {},
   "outputs": [],
   "source": []
  }
 ],
 "metadata": {
  "kernelspec": {
   "display_name": "Python 3 (ipykernel)",
   "language": "python",
   "name": "python3"
  },
  "language_info": {
   "codemirror_mode": {
    "name": "ipython",
    "version": 3
   },
   "file_extension": ".py",
   "mimetype": "text/x-python",
   "name": "python",
   "nbconvert_exporter": "python",
   "pygments_lexer": "ipython3",
   "version": "3.12.4"
  }
 },
 "nbformat": 4,
 "nbformat_minor": 5
}
