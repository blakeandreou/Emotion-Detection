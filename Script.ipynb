{
 "cells": [
  {
   "cell_type": "code",
   "execution_count": 1,
   "id": "ea16cd16-726c-4ced-b991-cbde09d12390",
   "metadata": {},
   "outputs": [],
   "source": [
    "import soundfile as sf\n",
    "import librosa\n",
    "import numpy as np"
   ]
  },
  {
   "cell_type": "code",
   "execution_count": 2,
   "id": "26700968-7365-4cc9-bbc5-6856152ef805",
   "metadata": {},
   "outputs": [],
   "source": [
    "#working directory\n",
    "import os\n",
    "workDir = os.getcwd()"
   ]
  },
  {
   "cell_type": "code",
   "execution_count": 3,
   "id": "b2cf8562-52ad-4d38-8afa-5df8fa037375",
   "metadata": {},
   "outputs": [],
   "source": [
    "#grab first file\n",
    "firstSoundFile = sf.SoundFile('C:/Users/Blake/Documents/Projects/Speech-Emotion Recogntion/Actors/Actor_01/03-01-01-01-01-01-01.wav')"
   ]
  },
  {
   "cell_type": "code",
   "execution_count": 4,
   "id": "21ae4bed-b2ac-4487-ae1c-af34058b59f2",
   "metadata": {},
   "outputs": [],
   "source": [
    "#read file\n",
    "rawData = firstSoundFile.read()\n",
    "samp = firstSoundFile.samplerate"
   ]
  },
  {
   "cell_type": "code",
   "execution_count": 6,
   "id": "e1e8b43c-f8a0-4069-9886-dc94d66300f7",
   "metadata": {},
   "outputs": [],
   "source": [
    "#get librosa stats and throw in numpy array\n",
    "stft = np.abs(librosa.stft(rawData))\n",
    "mfccs = np.mean(librosa.feature.mfcc(y=rawData,sr=samp, n_mfcc=40).T, axis=0)\n",
    "chroma = np.mean(librosa.feature.chroma_stft(S=stft, sr=samp).T,axis=0)\n",
    "mel = np.mean(librosa.feature.melspectrogram(y=rawData, sr=samp).T,axis=0)"
   ]
  },
  {
   "cell_type": "code",
   "execution_count": 7,
   "id": "cdb6269f-91e3-4fa2-afe9-ca951320401e",
   "metadata": {},
   "outputs": [],
   "source": [
    "#close to prevent overwriting\n",
    "firstSoundFile.close()"
   ]
  },
  {
   "cell_type": "code",
   "execution_count": 11,
   "id": "912d8f04-eb0b-467c-8be8-1d334601a059",
   "metadata": {},
   "outputs": [],
   "source": [
    "result = np.hstack((mfccs,chroma,mel))"
   ]
  },
  {
   "cell_type": "code",
   "execution_count": 12,
   "id": "ba865716-64f9-4624-a74a-3632503aabde",
   "metadata": {},
   "outputs": [
    {
     "data": {
      "text/plain": [
       "array([-6.93497052e+02,  5.00643853e+01,  5.71449409e-01,  1.43299654e+01,\n",
       "        3.33637009e+00, -2.54072017e+00, -4.05790965e+00, -1.07119996e+01,\n",
       "       -7.29414013e+00,  1.74018889e+00, -4.19064317e+00,  1.95466186e+00,\n",
       "       -5.24789415e+00,  2.78143031e+00, -3.16756791e+00, -3.40008330e+00,\n",
       "       -2.37803208e+00, -5.68717942e-01, -6.47753338e+00, -1.24320551e+00,\n",
       "       -2.80542534e+00, -5.43635838e+00, -4.46874855e-01, -3.63516631e+00,\n",
       "       -2.98372505e+00, -5.63902649e-01, -1.65101943e+00, -5.55944994e-01,\n",
       "       -3.41018540e+00, -2.24465503e+00, -3.13058852e+00, -2.70090003e+00,\n",
       "       -1.88821293e+00, -5.54154237e-01, -3.96459802e+00, -2.13485190e+00,\n",
       "       -3.94577138e+00, -1.62457790e+00, -2.03990700e+00, -3.62910877e+00,\n",
       "        6.33734768e-01,  6.48760667e-01,  6.21744276e-01,  6.34553146e-01,\n",
       "        6.60345658e-01,  6.60463979e-01,  7.00948902e-01,  7.31556233e-01,\n",
       "        7.46921304e-01,  7.23420448e-01,  7.16119758e-01,  6.30602921e-01,\n",
       "        6.52830578e-07,  2.22643273e-05,  8.42613014e-04,  1.37719275e-02,\n",
       "        2.83742327e-02,  3.12111331e-02,  8.02663703e-03,  3.56961863e-03,\n",
       "        2.32551795e-02,  2.45211706e-02,  1.87926671e-02,  2.44478188e-02,\n",
       "        1.16031337e-02,  8.60342126e-03,  6.71913058e-03,  9.94843349e-03,\n",
       "        1.89656088e-02,  5.04483390e-02,  4.14051323e-02,  9.96424652e-03,\n",
       "        9.64601458e-03,  1.54170133e-02,  4.05186102e-02,  2.10739677e-02,\n",
       "        2.12946717e-03,  2.76945523e-03,  5.57055708e-03,  1.91831707e-02,\n",
       "        1.36224297e-02,  1.21960304e-03,  6.94197803e-04,  8.96891863e-04,\n",
       "        8.47186955e-04,  3.62369768e-04,  2.21950657e-04,  1.40306879e-04,\n",
       "        2.73740756e-04,  3.75907057e-04,  8.28741517e-04,  8.59786078e-04,\n",
       "        6.12733112e-04,  3.95249036e-04,  2.20409798e-04,  3.04378331e-04,\n",
       "        1.89061856e-03,  1.24956485e-03,  1.03854903e-03,  2.60822154e-03,\n",
       "        3.86649894e-03,  4.33527992e-03,  9.54611064e-04,  4.93530587e-04,\n",
       "        4.47093327e-04,  8.03626690e-04,  7.09871346e-04,  3.92192790e-04,\n",
       "        6.18621039e-04,  9.43593945e-04,  7.60865503e-04,  7.23498852e-04,\n",
       "        1.00387223e-03,  9.19646292e-04,  8.18870694e-04,  5.08129168e-04,\n",
       "        4.11667409e-04,  4.03237693e-04,  1.48571418e-04,  6.84264612e-04,\n",
       "        1.38615609e-03,  2.92808880e-04,  5.09449265e-05,  7.45297181e-05,\n",
       "        1.39878647e-04,  8.93816265e-05,  1.35135118e-04,  1.09651713e-04,\n",
       "        2.46569626e-04,  7.43343213e-04,  4.77164416e-04,  6.96408901e-04,\n",
       "        4.74705712e-04,  2.55434731e-04,  1.59143694e-04,  8.08707532e-05,\n",
       "        9.79213291e-05,  8.84003896e-05,  9.75710265e-05,  1.17046951e-04,\n",
       "        1.84339976e-04,  1.69435393e-04,  2.55545994e-04,  2.40519123e-04,\n",
       "        4.28831189e-04,  2.98486303e-04,  4.27471399e-04,  1.06324660e-04,\n",
       "        5.85673383e-05,  2.31044741e-05,  8.89405339e-06,  1.98013919e-05,\n",
       "        1.09333170e-05,  3.66455465e-05,  3.68459814e-05,  5.25096347e-05,\n",
       "        3.77127614e-05,  8.86667149e-05,  7.79374709e-05,  4.24979551e-05,\n",
       "        6.51855855e-05,  3.53608301e-05,  2.41367904e-05,  2.45215572e-05,\n",
       "        2.89214493e-05,  3.95157194e-05,  2.72971363e-05,  1.96686044e-05,\n",
       "        1.51977420e-05,  1.06007180e-05,  7.99631779e-06,  6.07571952e-06,\n",
       "        4.48540663e-06,  4.12061928e-06,  3.71885634e-06,  3.93320963e-06,\n",
       "        3.48488352e-06,  4.07551667e-06,  1.81608035e-06,  7.83327735e-07])"
      ]
     },
     "execution_count": 12,
     "metadata": {},
     "output_type": "execute_result"
    }
   ],
   "source": [
    "result"
   ]
  },
  {
   "cell_type": "code",
   "execution_count": null,
   "id": "e7f829eb-f168-4879-b998-c97e6e88d2af",
   "metadata": {},
   "outputs": [],
   "source": []
  }
 ],
 "metadata": {
  "kernelspec": {
   "display_name": "Python 3 (ipykernel)",
   "language": "python",
   "name": "python3"
  },
  "language_info": {
   "codemirror_mode": {
    "name": "ipython",
    "version": 3
   },
   "file_extension": ".py",
   "mimetype": "text/x-python",
   "name": "python",
   "nbconvert_exporter": "python",
   "pygments_lexer": "ipython3",
   "version": "3.12.4"
  }
 },
 "nbformat": 4,
 "nbformat_minor": 5
}
