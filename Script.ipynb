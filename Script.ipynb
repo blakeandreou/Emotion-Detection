{
 "cells": [
  {
   "cell_type": "code",
   "execution_count": 47,
   "id": "ea16cd16-726c-4ced-b991-cbde09d12390",
   "metadata": {},
   "outputs": [],
   "source": [
    "import soundfile as sf\n",
    "import librosa\n",
    "import numpy as np"
   ]
  },
  {
   "cell_type": "code",
   "execution_count": 3,
   "id": "26700968-7365-4cc9-bbc5-6856152ef805",
   "metadata": {},
   "outputs": [],
   "source": [
    "#working directory\n",
    "import os\n",
    "workDir = os.getcwd()"
   ]
  },
  {
   "cell_type": "code",
   "execution_count": 55,
   "id": "b2cf8562-52ad-4d38-8afa-5df8fa037375",
   "metadata": {},
   "outputs": [],
   "source": [
    "#grab first file\n",
    "firstSoundFile = sf.SoundFile('C:/Users/Blake/Documents/Projects/Speech-Emotion Recogntion/Actors/Actor_01/03-01-01-01-01-01-01.wav')"
   ]
  },
  {
   "cell_type": "code",
   "execution_count": 56,
   "id": "21ae4bed-b2ac-4487-ae1c-af34058b59f2",
   "metadata": {},
   "outputs": [],
   "source": [
    "#read file\n",
    "data = firstSoundFile.read()\n",
    "sr = firstSoundFile.samplerate"
   ]
  },
  {
   "cell_type": "code",
   "execution_count": 57,
   "id": "e1e8b43c-f8a0-4069-9886-dc94d66300f7",
   "metadata": {},
   "outputs": [],
   "source": [
    "#librosa stats\n",
    "stft = np.abs(librosa.stft(data))\n",
    "mfccs = np.mean(librosa.feature.mfcc(y=data,sr=sr, n_mfcc=40).T, axis=0)\n",
    "chroma = np.mean(librosa.feature.chroma_stft(S=stft, sr=sr).T,axis=0)"
   ]
  },
  {
   "cell_type": "code",
   "execution_count": 62,
   "id": "cdb6269f-91e3-4fa2-afe9-ca951320401e",
   "metadata": {},
   "outputs": [],
   "source": [
    "#close to prevent overwriting\n",
    "firstSoundFile.close()"
   ]
  }
 ],
 "metadata": {
  "kernelspec": {
   "display_name": "Python 3 (ipykernel)",
   "language": "python",
   "name": "python3"
  },
  "language_info": {
   "codemirror_mode": {
    "name": "ipython",
    "version": 3
   },
   "file_extension": ".py",
   "mimetype": "text/x-python",
   "name": "python",
   "nbconvert_exporter": "python",
   "pygments_lexer": "ipython3",
   "version": "3.12.4"
  }
 },
 "nbformat": 4,
 "nbformat_minor": 5
}
